{
 "cells": [
  {
   "cell_type": "code",
   "execution_count": null,
   "metadata": {
    "colab": {
     "base_uri": "https://localhost:8080/"
    },
    "executionInfo": {
     "elapsed": 438,
     "status": "ok",
     "timestamp": 1629017739584,
     "user": {
      "displayName": "黃奕凱",
      "photoUrl": "",
      "userId": "06325147976452872858"
     },
     "user_tz": -480
    },
    "id": "D-8PRshBpawO",
    "outputId": "b0e51085-6219-43bc-b55f-278ba1f1ce65"
   },
   "outputs": [
    {
     "name": "stdout",
     "output_type": "stream",
     "text": [
      "Drive already mounted at /content/drive; to attempt to forcibly remount, call drive.mount(\"/content/drive\", force_remount=True).\n"
     ]
    }
   ],
   "source": [
    "from google.colab import drive\n",
    "drive.mount('/content/drive')"
   ]
  },
  {
   "cell_type": "code",
   "execution_count": null,
   "metadata": {
    "id": "s-1zej5Wr7df"
   },
   "outputs": [],
   "source": [
    "import glob \n",
    "import numpy as np\n",
    "from keras import optimizers\n",
    "from keras.models import Model\n",
    "import matplotlib.pyplot as plt \n",
    "from keras.models import Sequential\n",
    "from keras.preprocessing.image import img_to_array, load_img\n",
    "from keras.layers import Dense, GlobalAveragePooling2D, Flatten, Dropout, concatenate, Conv2D, BatchNormalization, Activation, SeparableConv2D, MaxPooling2D, add\n",
    "from keras.layers import Input, Dense\n",
    "import cv2\n",
    "from keras.utils.np_utils import to_categorical\n",
    "from keras.callbacks import ModelCheckpoint\n",
    "from keras.callbacks import ReduceLROnPlateau\n",
    "from keras.callbacks import EarlyStopping\n",
    "from sklearn.model_selection import KFold"
   ]
  },
  {
   "cell_type": "markdown",
   "metadata": {
    "id": "VzalMKSyBL48"
   },
   "source": [
    "# Load Data"
   ]
  },
  {
   "cell_type": "code",
   "execution_count": null,
   "metadata": {
    "id": "Dt4JTmYdI2GT"
   },
   "outputs": [],
   "source": [
    "X_CLAHE = np.load('/content/drive/MyDrive/Database/covid19_data/covid19_clahe/clahe_288_X_0_255.npy')\n",
    "X_original = np.load('/content/drive/MyDrive/Database/covid19_data/covid19_original/original_X_0_255.npy')\n",
    "\n",
    "y = np.load('/content/drive/MyDrive/Database/covid19_data/covid19_original/original_y_0_255.npy')\n",
    "# print(y_)\n",
    "# print(X_CLAHE[:,:,:,:1].shape)\n",
    "X_CLAHE = X_CLAHE[:,:,:,:1]/255\n",
    "X_original = X_original[:,:,:,:1]/255\n",
    "\n",
    "# print(X_CLAHE.shape, X_original.shape)\n",
    "X_CLAHE = X_CLAHE.astype(\"float16\")\n",
    "X_original = X_original.astype(\"float16\")\n",
    "\n",
    "y = to_categorical(y)"
   ]
  },
  {
   "cell_type": "markdown",
   "metadata": {
    "id": "WVuWCqY7BO8R"
   },
   "source": [
    "#Stack"
   ]
  },
  {
   "cell_type": "code",
   "execution_count": null,
   "metadata": {
    "colab": {
     "base_uri": "https://localhost:8080/"
    },
    "executionInfo": {
     "elapsed": 503,
     "status": "ok",
     "timestamp": 1629017762980,
     "user": {
      "displayName": "黃奕凱",
      "photoUrl": "",
      "userId": "06325147976452872858"
     },
     "user_tz": -480
    },
    "id": "Y1yFLmc9BLP4",
    "outputId": "b127cc8b-fa4f-4437-dcf8-5a697a005796"
   },
   "outputs": [
    {
     "name": "stdout",
     "output_type": "stream",
     "text": [
      "(3875, 224, 224, 2)\n",
      "(387, 224, 224, 2)\n",
      "(387, 3)\n"
     ]
    }
   ],
   "source": [
    "X = np.concatenate((X_CLAHE, X_original), axis=3)\n",
    "print(X.shape)\n",
    "\n",
    "from sklearn.model_selection import train_test_split\n",
    "X_train, X_test, y_train, y_test = train_test_split(X, y, test_size=0.2, random_state=10, stratify = y)\n",
    "X_test, X_val, y_test, y_val = train_test_split(X_test, y_test, test_size=0.5, random_state=10, stratify = y_test)\n",
    "print(X_test.shape)\n",
    "print(y_test.shape)"
   ]
  },
  {
   "cell_type": "code",
   "execution_count": null,
   "metadata": {
    "id": "ZpHh5xiBDXhP"
   },
   "outputs": [],
   "source": [
    "def count_y(y):\n",
    "  los_count={}\n",
    "  for i in range(y.shape[1]):\n",
    "      los_count[i] = 0\n",
    "  y_arg = (np.argmax(y,axis=1))\n",
    "  for i in range(len(y_arg)):\n",
    "    los_count[y_arg[i]]+=1\n",
    "  return los_count"
   ]
  },
  {
   "cell_type": "code",
   "execution_count": null,
   "metadata": {
    "colab": {
     "base_uri": "https://localhost:8080/"
    },
    "executionInfo": {
     "elapsed": 31,
     "status": "ok",
     "timestamp": 1628995578316,
     "user": {
      "displayName": "黃奕凱",
      "photoUrl": "",
      "userId": "06325147976452872858"
     },
     "user_tz": -480
    },
    "id": "kCdqMcX2D98i",
    "outputId": "4ead9d03-84b7-46e3-ad24-82446573ff74"
   },
   "outputs": [
    {
     "name": "stdout",
     "output_type": "stream",
     "text": [
      "y {0: 1197, 1: 1340, 2: 1338}\n"
     ]
    }
   ],
   "source": [
    "print(\"y\", count_y(y))\n",
    "# print(\"y_train\", count_y(y_train))\n",
    "# print(\"y_test \", count_y(y_test))\n",
    "# print(\"y_val  \", count_y(y_val))"
   ]
  },
  {
   "cell_type": "markdown",
   "metadata": {
    "id": "mGVgJFC6FZun"
   },
   "source": [
    "# File Path\n"
   ]
  },
  {
   "cell_type": "code",
   "execution_count": null,
   "metadata": {
    "colab": {
     "base_uri": "https://localhost:8080/"
    },
    "executionInfo": {
     "elapsed": 283,
     "status": "ok",
     "timestamp": 1629017803838,
     "user": {
      "displayName": "黃奕凱",
      "photoUrl": "",
      "userId": "06325147976452872858"
     },
     "user_tz": -480
    },
    "id": "RMEoEmkmFeBP",
    "outputId": "6ca61425-1f86-4f16-8185-905f9a41beaa"
   },
   "outputs": [
    {
     "name": "stdout",
     "output_type": "stream",
     "text": [
      "/content/drive/MyDrive/Database/covid19_data/New_Net/DenseNet201_random_state10/目錄已存在\n"
     ]
    }
   ],
   "source": [
    "import os\n",
    "filepath=\"/content/drive/MyDrive/Database/covid19_data/New_Net/DenseNet201_random_state10/\"\n",
    "folder = os.path.exists(filepath)\n",
    "if not folder:\n",
    "  #如果不存在，則建立新目錄\n",
    "  os.makedirs(filepath)\n",
    "  print('-----建立成功-----')\n",
    "\n",
    "else:\n",
    "  #如果目錄已存在，則不建立，提示目錄已存在\n",
    "  print(filepath+'目錄已存在')"
   ]
  },
  {
   "cell_type": "markdown",
   "metadata": {
    "id": "07roCodWF2M3"
   },
   "source": [
    "#Save History"
   ]
  },
  {
   "cell_type": "code",
   "execution_count": null,
   "metadata": {
    "id": "G5I8DlY6F5NI"
   },
   "outputs": [],
   "source": [
    "from tensorflow.keras.callbacks import LearningRateScheduler\n",
    "from keras.callbacks import Callback\n",
    "count = 0\n",
    "# temp_count = 0\n",
    "class SaveHistory(Callback):\n",
    "  def on_train_begin(self, logs={}):\n",
    "    self.accuracy = []\n",
    "    self.loss = []\n",
    "    self.val_accuracy = []\n",
    "    self.val_loss = []\n",
    "\n",
    "  def on_epoch_end(self, epoch, logs={}):\n",
    "\n",
    "    self.accuracy.append(logs[\"accuracy\"])\n",
    "    self.loss.append(logs[\"loss\"])\n",
    "    self.val_accuracy.append(logs[\"val_accuracy\"])\n",
    "    self.val_loss.append(logs[\"val_loss\"])\n",
    "\n",
    "    model.save(filepath+ 'last.h5')\n",
    "    np.save(filepath+ 'accuracy.npy', self.accuracy)\n",
    "    np.save(filepath+ 'loss.npy', self.loss)\n",
    "    np.save(filepath+ 'val_accuracy.npy', self.val_accuracy)\n",
    "    np.save(filepath+ 'val_loss.npy', self.val_loss)\n",
    "\n",
    "# class KF_SaveHistory(Callback):\n",
    "#   def on_train_begin(self, logs={}):\n",
    "#     global all_acc\n",
    "#     self.accuracy = []\n",
    "#     self.loss = []\n",
    "\n",
    "#   def on_epoch_end(self, epoch, logs={}):\n",
    "#     self.accuracy.append(logs[\"accuracy\"])\n",
    "#     self.loss.append(logs[\"loss\"])\n",
    "#     model.save(filepath+ 'last.h5')\n",
    "#     np.save(filepath+ 'accuracy.npy', self.accuracy)\n",
    "#     np.save(filepath+ 'loss.npy', self.loss)\n",
    "\n",
    "#   def on_train_end(self, logs={}):\n",
    "#     all_acc.append(model.evaluate(X[train_index], y[train_index])[1])\n",
    "#     print(all_acc)\n",
    "#     print(sum(all_acc)/len(all_acc))"
   ]
  },
  {
   "cell_type": "markdown",
   "metadata": {
    "id": "J10lEG8oFXtA"
   },
   "source": [
    "#K折"
   ]
  },
  {
   "cell_type": "code",
   "execution_count": null,
   "metadata": {
    "colab": {
     "base_uri": "https://localhost:8080/"
    },
    "executionInfo": {
     "elapsed": 783,
     "status": "ok",
     "timestamp": 1628995579077,
     "user": {
      "displayName": "黃奕凱",
      "photoUrl": "",
      "userId": "06325147976452872858"
     },
     "user_tz": -480
    },
    "id": "jVY4MgU1rTCW",
    "outputId": "a73ca0dd-7edc-401e-ba4d-98633ff0fd54"
   },
   "outputs": [
    {
     "name": "stdout",
     "output_type": "stream",
     "text": [
      "(5, 3100)\n",
      "(5, 775)\n"
     ]
    }
   ],
   "source": [
    "# KF = KFold(n_splits=5, random_state=1, shuffle=True)\n",
    "# train_index = []\n",
    "# test_index = []\n",
    "# for train_index_temp, test_index_temp in KF.split(X):\n",
    "#   train_index.append(train_index_temp)\n",
    "#   test_index.append(test_index_temp)\n",
    "# train_index = np.array(train_index)\n",
    "# test_index = np.array(test_index)\n",
    "# print(train_index.shape)\n",
    "# print(test_index.shape)\n",
    "# np.save(\"/content/drive/MyDrive/Database/covid19_data/New_Net/DenseNet201_random_state10/train_index\", train_index)\n",
    "# np.save(\"/content/drive/MyDrive/Database/covid19_data/New_Net/DenseNet201_random_state10/test_index\", test_index)"
   ]
  },
  {
   "cell_type": "code",
   "execution_count": null,
   "metadata": {
    "colab": {
     "base_uri": "https://localhost:8080/"
    },
    "id": "7pULkxiyFVrC",
    "outputId": "1178b774-37c6-4ae7-c4d2-de397ffce226"
   },
   "outputs": [
    {
     "name": "stderr",
     "output_type": "stream",
     "text": [
      "/usr/local/lib/python3.7/dist-packages/keras/applications/imagenet_utils.py:333: UserWarning: This model usually expects 1 or 3 input channels. However, it was passed an input_shape with 2 input channels.\n",
      "  str(input_shape[-1]) + ' input channels.')\n"
     ]
    },
    {
     "name": "stdout",
     "output_type": "stream",
     "text": [
      "-----建立成功-----\n",
      "Epoch 1/100\n",
      "194/194 [==============================] - 151s 311ms/step - loss: 3.1834 - accuracy: 0.5791\n",
      "\n",
      "Epoch 00001: loss improved from inf to 1.31223, saving model to /content/drive/MyDrive/Database/covid19_data/New_Net/DenseNet201_random_state10/0/best.h5\n",
      "Epoch 2/100\n",
      "194/194 [==============================] - 57s 293ms/step - loss: 0.2749 - accuracy: 0.8987\n",
      "\n",
      "Epoch 00002: loss improved from 1.31223 to 0.27110, saving model to /content/drive/MyDrive/Database/covid19_data/New_Net/DenseNet201_random_state10/0/best.h5\n",
      "Epoch 3/100\n",
      "194/194 [==============================] - 57s 294ms/step - loss: 0.2014 - accuracy: 0.9228\n",
      "\n",
      "Epoch 00003: loss improved from 0.27110 to 0.19909, saving model to /content/drive/MyDrive/Database/covid19_data/New_Net/DenseNet201_random_state10/0/best.h5\n",
      "Epoch 4/100\n",
      "194/194 [==============================] - 57s 293ms/step - loss: 0.1754 - accuracy: 0.9355\n",
      "\n",
      "Epoch 00004: loss improved from 0.19909 to 0.19120, saving model to /content/drive/MyDrive/Database/covid19_data/New_Net/DenseNet201_random_state10/0/best.h5\n",
      "Epoch 5/100\n",
      "194/194 [==============================] - 57s 294ms/step - loss: 0.1664 - accuracy: 0.9402\n",
      "\n",
      "Epoch 00005: loss improved from 0.19120 to 0.18494, saving model to /content/drive/MyDrive/Database/covid19_data/New_Net/DenseNet201_random_state10/0/best.h5\n",
      "Epoch 6/100\n",
      "194/194 [==============================] - 57s 295ms/step - loss: 0.1426 - accuracy: 0.9435\n",
      "\n",
      "Epoch 00006: loss improved from 0.18494 to 0.13968, saving model to /content/drive/MyDrive/Database/covid19_data/New_Net/DenseNet201_random_state10/0/best.h5\n",
      "Epoch 7/100\n",
      "194/194 [==============================] - 57s 293ms/step - loss: 0.1391 - accuracy: 0.9444\n",
      "\n",
      "Epoch 00007: loss improved from 0.13968 to 0.12986, saving model to /content/drive/MyDrive/Database/covid19_data/New_Net/DenseNet201_random_state10/0/best.h5\n",
      "Epoch 8/100\n",
      "194/194 [==============================] - 57s 293ms/step - loss: 0.1085 - accuracy: 0.9571\n",
      "\n",
      "Epoch 00008: loss improved from 0.12986 to 0.12593, saving model to /content/drive/MyDrive/Database/covid19_data/New_Net/DenseNet201_random_state10/0/best.h5\n",
      "Epoch 9/100\n",
      "194/194 [==============================] - 57s 294ms/step - loss: 0.0981 - accuracy: 0.9633\n",
      "\n",
      "Epoch 00009: loss improved from 0.12593 to 0.10978, saving model to /content/drive/MyDrive/Database/covid19_data/New_Net/DenseNet201_random_state10/0/best.h5\n",
      "Epoch 10/100\n",
      "194/194 [==============================] - 57s 293ms/step - loss: 0.0963 - accuracy: 0.9679\n",
      "\n",
      "Epoch 00010: loss improved from 0.10978 to 0.10548, saving model to /content/drive/MyDrive/Database/covid19_data/New_Net/DenseNet201_random_state10/0/best.h5\n",
      "Epoch 11/100\n",
      "194/194 [==============================] - 57s 293ms/step - loss: 0.0968 - accuracy: 0.9652\n",
      "\n",
      "Epoch 00011: loss improved from 0.10548 to 0.09535, saving model to /content/drive/MyDrive/Database/covid19_data/New_Net/DenseNet201_random_state10/0/best.h5\n",
      "Epoch 12/100\n",
      "194/194 [==============================] - 57s 293ms/step - loss: 0.0786 - accuracy: 0.9759\n",
      "\n",
      "Epoch 00012: loss improved from 0.09535 to 0.08876, saving model to /content/drive/MyDrive/Database/covid19_data/New_Net/DenseNet201_random_state10/0/best.h5\n",
      "Epoch 13/100\n",
      "194/194 [==============================] - 57s 292ms/step - loss: 0.0863 - accuracy: 0.9635\n",
      "\n",
      "Epoch 00013: loss did not improve from 0.08876\n",
      "Epoch 14/100\n",
      "194/194 [==============================] - 57s 291ms/step - loss: 0.0986 - accuracy: 0.9678\n",
      "\n",
      "Epoch 00014: loss did not improve from 0.08876\n",
      "Epoch 15/100\n",
      "194/194 [==============================] - 57s 291ms/step - loss: 0.0996 - accuracy: 0.9638\n",
      "\n",
      "Epoch 00015: loss did not improve from 0.08876\n",
      "Epoch 16/100\n",
      "194/194 [==============================] - 57s 292ms/step - loss: 0.0606 - accuracy: 0.9796\n",
      "\n",
      "Epoch 00016: loss improved from 0.08876 to 0.06681, saving model to /content/drive/MyDrive/Database/covid19_data/New_Net/DenseNet201_random_state10/0/best.h5\n",
      "Epoch 17/100\n",
      "194/194 [==============================] - 57s 293ms/step - loss: 0.0753 - accuracy: 0.9748\n",
      "\n",
      "Epoch 00017: loss did not improve from 0.06681\n",
      "Epoch 18/100\n",
      "194/194 [==============================] - 57s 291ms/step - loss: 0.0768 - accuracy: 0.9777\n",
      "\n",
      "Epoch 00018: loss did not improve from 0.06681\n",
      "Epoch 19/100\n",
      "194/194 [==============================] - 57s 292ms/step - loss: 0.0608 - accuracy: 0.9777\n",
      "\n",
      "Epoch 00019: loss improved from 0.06681 to 0.06343, saving model to /content/drive/MyDrive/Database/covid19_data/New_Net/DenseNet201_random_state10/0/best.h5\n",
      "Epoch 20/100\n",
      "194/194 [==============================] - 57s 293ms/step - loss: 0.0694 - accuracy: 0.9735\n",
      "\n",
      "Epoch 00020: loss improved from 0.06343 to 0.05152, saving model to /content/drive/MyDrive/Database/covid19_data/New_Net/DenseNet201_random_state10/0/best.h5\n",
      "Epoch 21/100\n",
      "194/194 [==============================] - 57s 292ms/step - loss: 0.0421 - accuracy: 0.9847\n",
      "\n",
      "Epoch 00021: loss did not improve from 0.05152\n",
      "Epoch 22/100\n",
      "194/194 [==============================] - 56s 290ms/step - loss: 0.0700 - accuracy: 0.9798\n",
      "\n",
      "Epoch 00022: loss did not improve from 0.05152\n",
      "Epoch 23/100\n",
      "194/194 [==============================] - 57s 291ms/step - loss: 0.0577 - accuracy: 0.9801\n",
      "\n",
      "Epoch 00023: loss did not improve from 0.05152\n",
      "Epoch 24/100\n",
      "194/194 [==============================] - 57s 291ms/step - loss: 0.0506 - accuracy: 0.9818\n",
      "\n",
      "Epoch 00024: loss improved from 0.05152 to 0.05045, saving model to /content/drive/MyDrive/Database/covid19_data/New_Net/DenseNet201_random_state10/0/best.h5\n",
      "Epoch 25/100\n",
      "194/194 [==============================] - 57s 292ms/step - loss: 0.0418 - accuracy: 0.9825\n",
      "\n",
      "Epoch 00025: loss did not improve from 0.05045\n",
      "Epoch 26/100\n",
      "194/194 [==============================] - 57s 291ms/step - loss: 0.0400 - accuracy: 0.9831\n",
      "\n",
      "Epoch 00026: loss did not improve from 0.05045\n",
      "Epoch 27/100\n",
      "194/194 [==============================] - 57s 291ms/step - loss: 0.0908 - accuracy: 0.9661\n",
      "\n",
      "Epoch 00027: loss did not improve from 0.05045\n",
      "Epoch 28/100\n",
      "194/194 [==============================] - 56s 291ms/step - loss: 0.0552 - accuracy: 0.9792\n",
      "\n",
      "Epoch 00028: loss did not improve from 0.05045\n",
      "Epoch 29/100\n",
      "194/194 [==============================] - 56s 291ms/step - loss: 0.0907 - accuracy: 0.9709\n",
      "\n",
      "Epoch 00029: loss did not improve from 0.05045\n",
      "Epoch 30/100\n",
      "194/194 [==============================] - 57s 291ms/step - loss: 0.0453 - accuracy: 0.9842\n",
      "\n",
      "Epoch 00030: loss did not improve from 0.05045\n",
      "Epoch 31/100\n",
      "194/194 [==============================] - 56s 290ms/step - loss: 0.0470 - accuracy: 0.9847\n",
      "\n",
      "Epoch 00031: loss improved from 0.05045 to 0.04338, saving model to /content/drive/MyDrive/Database/covid19_data/New_Net/DenseNet201_random_state10/0/best.h5\n",
      "Epoch 32/100\n",
      "194/194 [==============================] - 57s 292ms/step - loss: 0.0198 - accuracy: 0.9921\n",
      "\n",
      "Epoch 00032: loss improved from 0.04338 to 0.03019, saving model to /content/drive/MyDrive/Database/covid19_data/New_Net/DenseNet201_random_state10/0/best.h5\n",
      "Epoch 33/100\n",
      "194/194 [==============================] - 57s 292ms/step - loss: 0.0366 - accuracy: 0.9845\n",
      "\n",
      "Epoch 00033: loss did not improve from 0.03019\n",
      "Epoch 34/100\n",
      "194/194 [==============================] - 56s 291ms/step - loss: 0.0367 - accuracy: 0.9863\n",
      "\n",
      "Epoch 00034: loss did not improve from 0.03019\n",
      "Epoch 35/100\n",
      "194/194 [==============================] - 56s 290ms/step - loss: 0.0449 - accuracy: 0.9830\n",
      "\n",
      "Epoch 00035: loss did not improve from 0.03019\n",
      "Epoch 36/100\n",
      "194/194 [==============================] - 56s 291ms/step - loss: 0.0348 - accuracy: 0.9893\n",
      "\n",
      "Epoch 00036: loss did not improve from 0.03019\n",
      "Epoch 37/100\n",
      "194/194 [==============================] - 56s 290ms/step - loss: 0.0383 - accuracy: 0.9885\n",
      "\n",
      "Epoch 00037: loss improved from 0.03019 to 0.02820, saving model to /content/drive/MyDrive/Database/covid19_data/New_Net/DenseNet201_random_state10/0/best.h5\n",
      "Epoch 38/100\n",
      "194/194 [==============================] - 57s 291ms/step - loss: 0.0232 - accuracy: 0.9912\n",
      "\n",
      "Epoch 00038: loss improved from 0.02820 to 0.02258, saving model to /content/drive/MyDrive/Database/covid19_data/New_Net/DenseNet201_random_state10/0/best.h5\n",
      "Epoch 39/100\n",
      "194/194 [==============================] - 56s 291ms/step - loss: 0.0181 - accuracy: 0.9949\n",
      "\n",
      "Epoch 00039: loss improved from 0.02258 to 0.01349, saving model to /content/drive/MyDrive/Database/covid19_data/New_Net/DenseNet201_random_state10/0/best.h5\n",
      "Epoch 40/100\n",
      "194/194 [==============================] - 57s 291ms/step - loss: 0.0326 - accuracy: 0.9904\n",
      "\n",
      "Epoch 00040: loss did not improve from 0.01349\n",
      "Epoch 41/100\n",
      "194/194 [==============================] - 56s 290ms/step - loss: 0.0310 - accuracy: 0.9882\n",
      "\n",
      "Epoch 00041: loss did not improve from 0.01349\n",
      "Epoch 42/100\n",
      "194/194 [==============================] - 56s 290ms/step - loss: 0.0209 - accuracy: 0.9936\n",
      "\n",
      "Epoch 00042: loss did not improve from 0.01349\n",
      "Epoch 43/100\n",
      "194/194 [==============================] - 56s 290ms/step - loss: 0.0163 - accuracy: 0.9956\n",
      "\n",
      "Epoch 00043: loss did not improve from 0.01349\n",
      "Epoch 44/100\n",
      "194/194 [==============================] - 56s 290ms/step - loss: 0.0483 - accuracy: 0.9864\n",
      "\n",
      "Epoch 00044: loss did not improve from 0.01349\n",
      "Epoch 45/100\n",
      "194/194 [==============================] - 56s 290ms/step - loss: 0.0929 - accuracy: 0.9689\n",
      "\n",
      "Epoch 00045: loss did not improve from 0.01349\n",
      "Epoch 46/100\n",
      "194/194 [==============================] - 56s 289ms/step - loss: 0.0397 - accuracy: 0.9875\n",
      "\n",
      "Epoch 00046: loss did not improve from 0.01349\n",
      "Epoch 47/100\n",
      "194/194 [==============================] - 56s 289ms/step - loss: 0.0418 - accuracy: 0.9882\n",
      "\n",
      "Epoch 00047: loss did not improve from 0.01349\n",
      "Epoch 48/100\n",
      "194/194 [==============================] - 56s 289ms/step - loss: 0.0170 - accuracy: 0.9952\n",
      "\n",
      "Epoch 00048: loss did not improve from 0.01349\n",
      "Epoch 49/100\n",
      "194/194 [==============================] - 56s 290ms/step - loss: 0.0088 - accuracy: 0.9966\n",
      "\n",
      "Epoch 00049: loss improved from 0.01349 to 0.00790, saving model to /content/drive/MyDrive/Database/covid19_data/New_Net/DenseNet201_random_state10/0/best.h5\n",
      "Epoch 50/100\n",
      "194/194 [==============================] - 57s 291ms/step - loss: 0.0337 - accuracy: 0.9885\n",
      "\n",
      "Epoch 00050: loss did not improve from 0.00790\n",
      "Epoch 51/100\n",
      "194/194 [==============================] - 56s 289ms/step - loss: 0.0600 - accuracy: 0.9815\n",
      "\n",
      "Epoch 00051: loss did not improve from 0.00790\n",
      "Epoch 52/100\n",
      "194/194 [==============================] - 56s 289ms/step - loss: 0.0282 - accuracy: 0.9911\n",
      "\n",
      "Epoch 00052: loss did not improve from 0.00790\n",
      "Epoch 53/100\n",
      "194/194 [==============================] - 56s 289ms/step - loss: 0.0159 - accuracy: 0.9941\n",
      "\n",
      "Epoch 00053: loss did not improve from 0.00790\n",
      "Epoch 54/100\n",
      "194/194 [==============================] - 56s 290ms/step - loss: 0.0744 - accuracy: 0.9805\n",
      "\n",
      "Epoch 00054: loss did not improve from 0.00790\n",
      "Epoch 55/100\n",
      "194/194 [==============================] - 56s 290ms/step - loss: 0.0394 - accuracy: 0.9917\n",
      "\n",
      "Epoch 00055: loss did not improve from 0.00790\n",
      "Epoch 56/100\n",
      "194/194 [==============================] - 56s 290ms/step - loss: 0.0211 - accuracy: 0.9908\n",
      "\n",
      "Epoch 00056: loss did not improve from 0.00790\n",
      "Epoch 57/100\n",
      "194/194 [==============================] - 56s 289ms/step - loss: 0.0057 - accuracy: 0.9987\n",
      "\n",
      "Epoch 00057: loss did not improve from 0.00790\n",
      "Epoch 58/100\n",
      "194/194 [==============================] - 56s 289ms/step - loss: 0.0196 - accuracy: 0.9947\n",
      "\n",
      "Epoch 00058: loss did not improve from 0.00790\n",
      "Epoch 59/100\n",
      "194/194 [==============================] - 56s 289ms/step - loss: 0.0153 - accuracy: 0.9958\n",
      "\n",
      "Epoch 00059: ReduceLROnPlateau reducing learning rate to 0.020000000298023225.\n",
      "\n",
      "Epoch 00059: loss did not improve from 0.00790\n",
      "Epoch 60/100\n",
      "194/194 [==============================] - 56s 289ms/step - loss: 0.0121 - accuracy: 0.9959\n",
      "\n",
      "Epoch 00060: loss improved from 0.00790 to 0.00712, saving model to /content/drive/MyDrive/Database/covid19_data/New_Net/DenseNet201_random_state10/0/best.h5\n",
      "Epoch 61/100\n",
      "194/194 [==============================] - 56s 290ms/step - loss: 0.0054 - accuracy: 0.9990\n",
      "\n",
      "Epoch 00061: loss improved from 0.00712 to 0.00498, saving model to /content/drive/MyDrive/Database/covid19_data/New_Net/DenseNet201_random_state10/0/best.h5\n",
      "Epoch 62/100\n",
      "194/194 [==============================] - 56s 291ms/step - loss: 0.0015 - accuracy: 1.0000\n",
      "\n",
      "Epoch 00062: loss improved from 0.00498 to 0.00133, saving model to /content/drive/MyDrive/Database/covid19_data/New_Net/DenseNet201_random_state10/0/best.h5\n",
      "Epoch 63/100\n",
      "194/194 [==============================] - 57s 291ms/step - loss: 0.0017 - accuracy: 0.9995\n",
      "\n",
      "Epoch 00063: loss did not improve from 0.00133\n",
      "Epoch 64/100\n",
      "180/194 [==========================>...] - ETA: 4s - loss: 0.0011 - accuracy: 1.0000"
     ]
    }
   ],
   "source": [
    "\n",
    "# from keras.applications.densenet import DenseNet201\n",
    "# KF = KFold(n_splits=5, random_state=1, shuffle=True)\n",
    "# KFold_count = 0\n",
    "# train_index = np.load(\"/content/drive/MyDrive/Database/covid19_data/New_Net/DenseNet201_random_state10/train_index.npy\")\n",
    "# test_index = np.load(\"/content/drive/MyDrive/Database/covid19_data/New_Net/DenseNet201_random_state10/test_index.npy\")\n",
    "\n",
    "# model = DenseNet201(weights=None, include_top=False, input_shape=[224, 224, X.shape[3]])\n",
    "# model_output = model.output\n",
    "# GlobalAveragePooling_layer = GlobalAveragePooling2D(name='avg_pool')(model_output)\n",
    "# predictions_layer = Dense(3, activation='softmax', name='predictions')(GlobalAveragePooling_layer)\n",
    "# model = Model(inputs=model.input, outputs=predictions_layer)\n",
    "# # model.summary()\n",
    "\n",
    "# import os\n",
    "# filepath=\"/content/drive/MyDrive/Database/covid19_data/New_Net/DenseNet201_random_state10/\"+str(KFold_count)+\"/\"\n",
    "# folder = os.path.exists(filepath)\n",
    "# if not folder:\n",
    "#   #如果不存在，則建立新目錄\n",
    "#   os.makedirs(filepath)\n",
    "#   print('-----建立成功-----')\n",
    "\n",
    "# else:\n",
    "#   #如果目錄已存在，則不建立，提示目錄已存在\n",
    "#   print(filepath+'目錄已存在')\n",
    "\n",
    "# checkpoint = ModelCheckpoint(filepath+'best.h5', monitor='loss', verbose=1, save_best_only=True, mode='auto', save_weights_only = False)\n",
    "# # LR_function=ReduceLROnPlateau(monitor='val_loss', patience=3, verbose=1, factor=0.5, min_lr=0.0001)\n",
    "# reduce_lr = ReduceLROnPlateau(monitor='loss', factor=0.2, patience=10, min_lr=0.0000001, verbose=1)\n",
    "# stop = EarlyStopping(monitor='loss', min_delta=0, patience=20, verbose=1, mode='auto', baseline=None, restore_best_weights=False)\n",
    "# opt = optimizers.Adam(learning_rate=0.1)\n",
    "# model.compile(loss = \"categorical_crossentropy\", optimizer = opt, metrics = [\"accuracy\"])\n",
    "# history = model.fit(X[train_index[KFold_count]], y[train_index[KFold_count]], batch_size = 16, epochs = 100, shuffle=True, callbacks=[reduce_lr, checkpoint, stop, KF_SaveHistory()])\n",
    "# model.save(filepath+'last.h5')"
   ]
  },
  {
   "cell_type": "markdown",
   "metadata": {
    "id": "IwphTbyZClhc"
   },
   "source": [
    "#Make model"
   ]
  },
  {
   "cell_type": "code",
   "execution_count": null,
   "metadata": {
    "id": "bdlfqOpaBQ-G"
   },
   "outputs": [],
   "source": [
    "from keras.applications.resnet import ResNet50\n",
    "from keras.applications.resnet_v2 import ResNet152V2\n",
    "from keras.applications.densenet import DenseNet121\n",
    "from keras.applications.densenet import DenseNet201\n",
    "from keras.applications.mobilenet_v2 import MobileNetV2\n",
    "from keras.applications.inception_resnet_v2 import InceptionResNetV2\n",
    "\n",
    "model = DenseNet201(weights=None, include_top=False, input_shape=[224, 224, X_train.shape[3]])\n",
    "model_output = model.output\n",
    "GlobalAveragePooling_layer = GlobalAveragePooling2D(name='avg_pool')(model_output)\n",
    "predictions_layer = Dense(3, activation='softmax', name='predictions')(GlobalAveragePooling_layer)\n",
    "model = Model(inputs=model.input, outputs=predictions_layer)\n",
    "model.summary()"
   ]
  },
  {
   "cell_type": "code",
   "execution_count": null,
   "metadata": {
    "colab": {
     "base_uri": "https://localhost:8080/"
    },
    "executionInfo": {
     "elapsed": 3993250,
     "status": "ok",
     "timestamp": 1628962162051,
     "user": {
      "displayName": "黃奕凱",
      "photoUrl": "",
      "userId": "06325147976452872858"
     },
     "user_tz": -480
    },
    "id": "WP8hyqlwCo81",
    "outputId": "3b2face0-9740-4ae6-f2b2-c9b2cd7fe477"
   },
   "outputs": [
    {
     "name": "stderr",
     "output_type": "stream",
     "text": [
      "/usr/local/lib/python3.7/dist-packages/tensorflow/python/keras/optimizer_v2/optimizer_v2.py:375: UserWarning: The `lr` argument is deprecated, use `learning_rate` instead.\n",
      "  \"The `lr` argument is deprecated, use `learning_rate` instead.\")\n"
     ]
    },
    {
     "name": "stdout",
     "output_type": "stream",
     "text": [
      "Epoch 1/1000\n",
      "194/194 [==============================] - 173s 413ms/step - loss: 4.0687 - accuracy: 0.5911 - val_loss: 20.0391 - val_accuracy: 0.5206\n",
      "\n",
      "Epoch 00001: val_loss improved from inf to 20.03909, saving model to /content/drive/MyDrive/Database/covid19_data/New_Net/DenseNet201_random_state10/best.h5\n",
      "Epoch 2/1000\n",
      "194/194 [==============================] - 60s 311ms/step - loss: 0.3036 - accuracy: 0.8894 - val_loss: 0.3175 - val_accuracy: 0.9072\n",
      "\n",
      "Epoch 00002: val_loss improved from 20.03909 to 0.31747, saving model to /content/drive/MyDrive/Database/covid19_data/New_Net/DenseNet201_random_state10/best.h5\n",
      "Epoch 3/1000\n",
      "194/194 [==============================] - 59s 306ms/step - loss: 0.2119 - accuracy: 0.9231 - val_loss: 0.7444 - val_accuracy: 0.7887\n",
      "\n",
      "Epoch 00003: val_loss did not improve from 0.31747\n",
      "Epoch 4/1000\n",
      "194/194 [==============================] - 60s 308ms/step - loss: 0.1985 - accuracy: 0.9251 - val_loss: 0.4907 - val_accuracy: 0.8943\n",
      "\n",
      "Epoch 00004: val_loss did not improve from 0.31747\n",
      "Epoch 5/1000\n",
      "194/194 [==============================] - 60s 309ms/step - loss: 0.1921 - accuracy: 0.9346 - val_loss: 0.1999 - val_accuracy: 0.9510\n",
      "\n",
      "Epoch 00005: val_loss improved from 0.31747 to 0.19987, saving model to /content/drive/MyDrive/Database/covid19_data/New_Net/DenseNet201_random_state10/best.h5\n",
      "Epoch 6/1000\n",
      "194/194 [==============================] - 60s 311ms/step - loss: 0.1639 - accuracy: 0.9431 - val_loss: 0.7669 - val_accuracy: 0.7474\n",
      "\n",
      "Epoch 00006: val_loss did not improve from 0.19987\n",
      "Epoch 7/1000\n",
      "194/194 [==============================] - 60s 309ms/step - loss: 0.1038 - accuracy: 0.9580 - val_loss: 0.8702 - val_accuracy: 0.8144\n",
      "\n",
      "Epoch 00007: val_loss did not improve from 0.19987\n",
      "Epoch 8/1000\n",
      "194/194 [==============================] - 60s 310ms/step - loss: 0.1124 - accuracy: 0.9590 - val_loss: 0.1675 - val_accuracy: 0.9381\n",
      "\n",
      "Epoch 00008: val_loss improved from 0.19987 to 0.16755, saving model to /content/drive/MyDrive/Database/covid19_data/New_Net/DenseNet201_random_state10/best.h5\n",
      "Epoch 9/1000\n",
      "194/194 [==============================] - 60s 310ms/step - loss: 0.0907 - accuracy: 0.9693 - val_loss: 0.1911 - val_accuracy: 0.9562\n",
      "\n",
      "Epoch 00009: val_loss did not improve from 0.16755\n",
      "Epoch 10/1000\n",
      "194/194 [==============================] - 59s 305ms/step - loss: 0.1185 - accuracy: 0.9590 - val_loss: 0.2771 - val_accuracy: 0.9046\n",
      "\n",
      "Epoch 00010: val_loss did not improve from 0.16755\n",
      "Epoch 11/1000\n",
      "194/194 [==============================] - 60s 308ms/step - loss: 0.0934 - accuracy: 0.9632 - val_loss: 0.2582 - val_accuracy: 0.9227\n",
      "\n",
      "Epoch 00011: val_loss did not improve from 0.16755\n",
      "Epoch 12/1000\n",
      "194/194 [==============================] - 59s 306ms/step - loss: 0.0931 - accuracy: 0.9671 - val_loss: 0.7830 - val_accuracy: 0.8041\n",
      "\n",
      "Epoch 00012: val_loss did not improve from 0.16755\n",
      "Epoch 13/1000\n",
      "194/194 [==============================] - 60s 309ms/step - loss: 0.0944 - accuracy: 0.9713 - val_loss: 0.0713 - val_accuracy: 0.9768\n",
      "\n",
      "Epoch 00013: val_loss improved from 0.16755 to 0.07133, saving model to /content/drive/MyDrive/Database/covid19_data/New_Net/DenseNet201_random_state10/best.h5\n",
      "Epoch 14/1000\n",
      "194/194 [==============================] - 60s 307ms/step - loss: 0.0747 - accuracy: 0.9746 - val_loss: 0.1285 - val_accuracy: 0.9716\n",
      "\n",
      "Epoch 00014: val_loss did not improve from 0.07133\n",
      "Epoch 15/1000\n",
      "194/194 [==============================] - 60s 308ms/step - loss: 0.0942 - accuracy: 0.9705 - val_loss: 5.3462 - val_accuracy: 0.4253\n",
      "\n",
      "Epoch 00015: val_loss did not improve from 0.07133\n",
      "Epoch 16/1000\n",
      "194/194 [==============================] - 59s 305ms/step - loss: 0.0877 - accuracy: 0.9707 - val_loss: 0.5088 - val_accuracy: 0.8789\n",
      "\n",
      "Epoch 00016: val_loss did not improve from 0.07133\n",
      "Epoch 17/1000\n",
      "194/194 [==============================] - 60s 308ms/step - loss: 0.1221 - accuracy: 0.9563 - val_loss: 3.0277 - val_accuracy: 0.5696\n",
      "\n",
      "Epoch 00017: val_loss did not improve from 0.07133\n",
      "Epoch 18/1000\n",
      "194/194 [==============================] - 59s 305ms/step - loss: 0.0882 - accuracy: 0.9658 - val_loss: 0.6167 - val_accuracy: 0.8299\n",
      "\n",
      "Epoch 00018: val_loss did not improve from 0.07133\n",
      "Epoch 19/1000\n",
      "194/194 [==============================] - 59s 305ms/step - loss: 0.0554 - accuracy: 0.9793 - val_loss: 0.0638 - val_accuracy: 0.9768\n",
      "\n",
      "Epoch 00019: val_loss improved from 0.07133 to 0.06381, saving model to /content/drive/MyDrive/Database/covid19_data/New_Net/DenseNet201_random_state10/best.h5\n",
      "Epoch 20/1000\n",
      "194/194 [==============================] - 59s 306ms/step - loss: 0.0435 - accuracy: 0.9850 - val_loss: 0.0586 - val_accuracy: 0.9820\n",
      "\n",
      "Epoch 00020: val_loss improved from 0.06381 to 0.05859, saving model to /content/drive/MyDrive/Database/covid19_data/New_Net/DenseNet201_random_state10/best.h5\n",
      "Epoch 21/1000\n",
      "194/194 [==============================] - 60s 307ms/step - loss: 0.0744 - accuracy: 0.9709 - val_loss: 0.0849 - val_accuracy: 0.9716\n",
      "\n",
      "Epoch 00021: val_loss did not improve from 0.05859\n",
      "Epoch 22/1000\n",
      "194/194 [==============================] - 59s 304ms/step - loss: 0.0579 - accuracy: 0.9786 - val_loss: 0.3290 - val_accuracy: 0.9356\n",
      "\n",
      "Epoch 00022: val_loss did not improve from 0.05859\n",
      "Epoch 23/1000\n",
      "194/194 [==============================] - 60s 308ms/step - loss: 0.1090 - accuracy: 0.9654 - val_loss: 4.3627 - val_accuracy: 0.6031\n",
      "\n",
      "Epoch 00023: val_loss did not improve from 0.05859\n",
      "Epoch 24/1000\n",
      "194/194 [==============================] - 59s 305ms/step - loss: 0.0437 - accuracy: 0.9825 - val_loss: 0.8278 - val_accuracy: 0.8325\n",
      "\n",
      "Epoch 00024: val_loss did not improve from 0.05859\n",
      "Epoch 25/1000\n",
      "194/194 [==============================] - 59s 304ms/step - loss: 0.0517 - accuracy: 0.9818 - val_loss: 0.2525 - val_accuracy: 0.9253\n",
      "\n",
      "Epoch 00025: val_loss did not improve from 0.05859\n",
      "Epoch 26/1000\n",
      "194/194 [==============================] - 60s 307ms/step - loss: 0.0856 - accuracy: 0.9703 - val_loss: 0.0855 - val_accuracy: 0.9768\n",
      "\n",
      "Epoch 00026: val_loss did not improve from 0.05859\n",
      "Epoch 27/1000\n",
      "194/194 [==============================] - 59s 305ms/step - loss: 0.0593 - accuracy: 0.9781 - val_loss: 0.2377 - val_accuracy: 0.9124\n",
      "\n",
      "Epoch 00027: val_loss did not improve from 0.05859\n",
      "Epoch 28/1000\n",
      "194/194 [==============================] - 60s 307ms/step - loss: 0.0352 - accuracy: 0.9879 - val_loss: 0.1352 - val_accuracy: 0.9691\n",
      "\n",
      "Epoch 00028: val_loss did not improve from 0.05859\n",
      "Epoch 29/1000\n",
      "194/194 [==============================] - 60s 308ms/step - loss: 0.0730 - accuracy: 0.9768 - val_loss: 0.6145 - val_accuracy: 0.8582\n",
      "\n",
      "Epoch 00029: val_loss did not improve from 0.05859\n",
      "Epoch 30/1000\n",
      "194/194 [==============================] - 60s 308ms/step - loss: 0.0635 - accuracy: 0.9737 - val_loss: 1.0882 - val_accuracy: 0.6727\n",
      "\n",
      "Epoch 00030: ReduceLROnPlateau reducing learning rate to 0.020000000298023225.\n",
      "\n",
      "Epoch 00030: val_loss did not improve from 0.05859\n",
      "Epoch 31/1000\n",
      "194/194 [==============================] - 59s 304ms/step - loss: 0.0407 - accuracy: 0.9883 - val_loss: 0.0339 - val_accuracy: 0.9897\n",
      "\n",
      "Epoch 00031: val_loss improved from 0.05859 to 0.03395, saving model to /content/drive/MyDrive/Database/covid19_data/New_Net/DenseNet201_random_state10/best.h5\n",
      "Epoch 32/1000\n",
      "194/194 [==============================] - 60s 310ms/step - loss: 0.0210 - accuracy: 0.9941 - val_loss: 0.0290 - val_accuracy: 0.9897\n",
      "\n",
      "Epoch 00032: val_loss improved from 0.03395 to 0.02897, saving model to /content/drive/MyDrive/Database/covid19_data/New_Net/DenseNet201_random_state10/best.h5\n",
      "Epoch 33/1000\n",
      "194/194 [==============================] - 60s 309ms/step - loss: 0.0189 - accuracy: 0.9917 - val_loss: 0.0344 - val_accuracy: 0.9845\n",
      "\n",
      "Epoch 00033: val_loss did not improve from 0.02897\n",
      "Epoch 34/1000\n",
      "194/194 [==============================] - 59s 303ms/step - loss: 0.0136 - accuracy: 0.9970 - val_loss: 0.0269 - val_accuracy: 0.9948\n",
      "\n",
      "Epoch 00034: val_loss improved from 0.02897 to 0.02686, saving model to /content/drive/MyDrive/Database/covid19_data/New_Net/DenseNet201_random_state10/best.h5\n",
      "Epoch 35/1000\n",
      "194/194 [==============================] - 59s 305ms/step - loss: 0.0081 - accuracy: 0.9975 - val_loss: 0.0247 - val_accuracy: 0.9923\n",
      "\n",
      "Epoch 00035: val_loss improved from 0.02686 to 0.02467, saving model to /content/drive/MyDrive/Database/covid19_data/New_Net/DenseNet201_random_state10/best.h5\n",
      "Epoch 36/1000\n",
      "194/194 [==============================] - 59s 306ms/step - loss: 0.0038 - accuracy: 0.9999 - val_loss: 0.0208 - val_accuracy: 0.9948\n",
      "\n",
      "Epoch 00036: val_loss improved from 0.02467 to 0.02080, saving model to /content/drive/MyDrive/Database/covid19_data/New_Net/DenseNet201_random_state10/best.h5\n",
      "Epoch 37/1000\n",
      "194/194 [==============================] - 60s 309ms/step - loss: 0.0045 - accuracy: 0.9995 - val_loss: 0.0179 - val_accuracy: 0.9974\n",
      "\n",
      "Epoch 00037: val_loss improved from 0.02080 to 0.01789, saving model to /content/drive/MyDrive/Database/covid19_data/New_Net/DenseNet201_random_state10/best.h5\n",
      "Epoch 38/1000\n",
      "194/194 [==============================] - 60s 309ms/step - loss: 0.0086 - accuracy: 0.9964 - val_loss: 0.0239 - val_accuracy: 0.9948\n",
      "\n",
      "Epoch 00038: val_loss did not improve from 0.01789\n",
      "Epoch 39/1000\n",
      "194/194 [==============================] - 59s 303ms/step - loss: 0.0032 - accuracy: 0.9991 - val_loss: 0.0255 - val_accuracy: 0.9948\n",
      "\n",
      "Epoch 00039: val_loss did not improve from 0.01789\n",
      "Epoch 40/1000\n",
      "194/194 [==============================] - 59s 304ms/step - loss: 0.0066 - accuracy: 0.9981 - val_loss: 0.1088 - val_accuracy: 0.9665\n",
      "\n",
      "Epoch 00040: val_loss did not improve from 0.01789\n",
      "Epoch 41/1000\n",
      "194/194 [==============================] - 59s 305ms/step - loss: 0.0119 - accuracy: 0.9961 - val_loss: 0.0236 - val_accuracy: 0.9948\n",
      "\n",
      "Epoch 00041: val_loss did not improve from 0.01789\n",
      "Epoch 42/1000\n",
      "194/194 [==============================] - 59s 304ms/step - loss: 0.0044 - accuracy: 0.9984 - val_loss: 0.0310 - val_accuracy: 0.9897\n",
      "\n",
      "Epoch 00042: val_loss did not improve from 0.01789\n",
      "Epoch 43/1000\n",
      "194/194 [==============================] - 60s 308ms/step - loss: 0.0025 - accuracy: 1.0000 - val_loss: 0.0259 - val_accuracy: 0.9897\n",
      "\n",
      "Epoch 00043: val_loss did not improve from 0.01789\n",
      "Epoch 44/1000\n",
      "194/194 [==============================] - 59s 305ms/step - loss: 0.0019 - accuracy: 0.9998 - val_loss: 0.0624 - val_accuracy: 0.9794\n",
      "\n",
      "Epoch 00044: val_loss did not improve from 0.01789\n",
      "Epoch 45/1000\n",
      "194/194 [==============================] - 59s 304ms/step - loss: 0.0230 - accuracy: 0.9916 - val_loss: 0.0299 - val_accuracy: 0.9923\n",
      "\n",
      "Epoch 00045: val_loss did not improve from 0.01789\n",
      "Epoch 46/1000\n",
      "194/194 [==============================] - 60s 308ms/step - loss: 0.0014 - accuracy: 0.9999 - val_loss: 0.0422 - val_accuracy: 0.9897\n",
      "\n",
      "Epoch 00046: val_loss did not improve from 0.01789\n",
      "Epoch 47/1000\n",
      "194/194 [==============================] - 60s 308ms/step - loss: 0.0027 - accuracy: 0.9991 - val_loss: 0.0602 - val_accuracy: 0.9871\n",
      "\n",
      "Epoch 00047: ReduceLROnPlateau reducing learning rate to 0.003999999910593033.\n",
      "\n",
      "Epoch 00047: val_loss did not improve from 0.01789\n",
      "Epoch 48/1000\n",
      "194/194 [==============================] - 60s 308ms/step - loss: 0.0019 - accuracy: 0.9992 - val_loss: 0.0432 - val_accuracy: 0.9923\n",
      "\n",
      "Epoch 00048: val_loss did not improve from 0.01789\n",
      "Epoch 49/1000\n",
      "194/194 [==============================] - 60s 308ms/step - loss: 5.6994e-04 - accuracy: 1.0000 - val_loss: 0.0410 - val_accuracy: 0.9923\n",
      "\n",
      "Epoch 00049: val_loss did not improve from 0.01789\n",
      "Epoch 50/1000\n",
      "194/194 [==============================] - 59s 304ms/step - loss: 6.7827e-04 - accuracy: 1.0000 - val_loss: 0.0401 - val_accuracy: 0.9923\n",
      "\n",
      "Epoch 00050: val_loss did not improve from 0.01789\n",
      "Epoch 51/1000\n",
      "194/194 [==============================] - 60s 307ms/step - loss: 6.0282e-04 - accuracy: 1.0000 - val_loss: 0.0335 - val_accuracy: 0.9923\n",
      "\n",
      "Epoch 00051: val_loss did not improve from 0.01789\n",
      "Epoch 52/1000\n",
      "194/194 [==============================] - 60s 307ms/step - loss: 5.4021e-04 - accuracy: 1.0000 - val_loss: 0.0399 - val_accuracy: 0.9897\n",
      "\n",
      "Epoch 00052: val_loss did not improve from 0.01789\n",
      "Epoch 53/1000\n",
      "194/194 [==============================] - 60s 308ms/step - loss: 9.2923e-04 - accuracy: 0.9999 - val_loss: 0.0317 - val_accuracy: 0.9897\n",
      "\n",
      "Epoch 00053: val_loss did not improve from 0.01789\n",
      "Epoch 54/1000\n",
      "194/194 [==============================] - 60s 308ms/step - loss: 0.0013 - accuracy: 1.0000 - val_loss: 0.0317 - val_accuracy: 0.9923\n",
      "\n",
      "Epoch 00054: val_loss did not improve from 0.01789\n",
      "Epoch 55/1000\n",
      "194/194 [==============================] - 59s 305ms/step - loss: 7.2221e-04 - accuracy: 0.9997 - val_loss: 0.0316 - val_accuracy: 0.9897\n",
      "\n",
      "Epoch 00055: val_loss did not improve from 0.01789\n",
      "Epoch 56/1000\n",
      "194/194 [==============================] - 60s 307ms/step - loss: 4.0645e-04 - accuracy: 1.0000 - val_loss: 0.0377 - val_accuracy: 0.9897\n",
      "\n",
      "Epoch 00056: val_loss did not improve from 0.01789\n",
      "Epoch 57/1000\n",
      "194/194 [==============================] - 59s 304ms/step - loss: 0.0012 - accuracy: 0.9997 - val_loss: 0.0228 - val_accuracy: 0.9923\n",
      "\n",
      "Epoch 00057: ReduceLROnPlateau reducing learning rate to 0.0007999999448657036.\n",
      "\n",
      "Epoch 00057: val_loss did not improve from 0.01789\n",
      "Epoch 00057: early stopping\n",
      "13/13 [==============================] - 6s 273ms/step - loss: 0.0074 - accuracy: 0.9974\n",
      "0.9974160194396973\n"
     ]
    }
   ],
   "source": [
    "from keras.callbacks import ModelCheckpoint\n",
    "from keras.callbacks import ReduceLROnPlateau\n",
    "from keras.callbacks import EarlyStopping\n",
    "\n",
    "checkpoint = ModelCheckpoint(filepath+'best.h5', monitor='val_loss', verbose=1, save_best_only=True, mode='auto', save_weights_only = False)\n",
    "\n",
    "# LR_function=ReduceLROnPlateau(monitor='val_loss', patience=3, verbose=1, factor=0.5, min_lr=0.0001)\n",
    "reduce_lr = ReduceLROnPlateau(monitor='val_loss', factor=0.2, patience=10, min_lr=0.0000001, verbose=1)\n",
    "stop = EarlyStopping(monitor='val_loss', min_delta=0, patience=20, verbose=1, mode='auto', baseline=None, restore_best_weights=False)\n",
    "opt = optimizers.Adam(lr=0.1)\n",
    "model.compile(loss = \"categorical_crossentropy\", optimizer = opt, metrics = [\"accuracy\"])\n",
    "history = model.fit(X_train, y_train, batch_size = 16, epochs = 1000,validation_data =(X_val, y_val), shuffle=True, callbacks=[reduce_lr, checkpoint, stop, SaveHistory()])\n",
    "\n",
    "score = model.evaluate(X_test, y_test)\n",
    "print(score[1])\n",
    "\n",
    "model.save(filepath+'last.h5')"
   ]
  },
  {
   "cell_type": "markdown",
   "metadata": {
    "id": "a4MDIIPPGzCU"
   },
   "source": [
    "# Load models"
   ]
  },
  {
   "cell_type": "code",
   "execution_count": null,
   "metadata": {
    "id": "tU5ybcWuFH-0"
   },
   "outputs": [],
   "source": [
    "import keras\n",
    "model_best = keras.models.load_model(filepath+'best.h5')\n",
    "model_last = keras.models.load_model(filepath+'last.h5')"
   ]
  },
  {
   "cell_type": "markdown",
   "metadata": {
    "id": "Q943xjDTG1VS"
   },
   "source": [
    "#Loss Accuracy"
   ]
  },
  {
   "cell_type": "code",
   "execution_count": null,
   "metadata": {
    "colab": {
     "base_uri": "https://localhost:8080/",
     "height": 837
    },
    "executionInfo": {
     "elapsed": 2898,
     "status": "ok",
     "timestamp": 1629018253990,
     "user": {
      "displayName": "黃奕凱",
      "photoUrl": "",
      "userId": "06325147976452872858"
     },
     "user_tz": -480
    },
    "id": "Q5grvwmIG4sD",
    "outputId": "31acfc87-6648-4cd1-9540-7b9c55ec7611"
   },
   "outputs": [
    {
     "data": {
      "image/png": "[encoded data removed]",
      "text/plain": [
       "<Figure size 432x288 with 1 Axes>"
      ]
     },
     "metadata": {
      "needs_background": "light",
      "tags": []
     },
     "output_type": "display_data"
    },
    {
     "data": {
      "image/png": "[encoded data removed]",
      "text/plain": [
       "<Figure size 432x288 with 1 Axes>"
      ]
     },
     "metadata": {
      "needs_background": "light",
      "tags": []
     },
     "output_type": "display_data"
    },
    {
     "data": {
      "image/png": "[encoded data removed]",
      "text/plain": [
       "<Figure size 432x288 with 1 Axes>"
      ]
     },
     "metadata": {
      "needs_background": "light",
      "tags": []
     },
     "output_type": "display_data"
    }
   ],
   "source": [
    "\n",
    "loss = np.load(filepath+\"loss.npy\")\n",
    "val_loss = np.load(filepath+\"val_loss.npy\")\n",
    "accuracy = np.load(filepath+\"accuracy.npy\")\n",
    "val_accuracy = np.load(filepath+\"val_accuracy.npy\")\n",
    "\n",
    "plt.plot(loss, label = \"Train Loss\")\n",
    "plt.plot(val_loss, label = \"Validation Loss\")\n",
    "plt.legend()\n",
    "plt.ylim(-0.003,0.1)\n",
    "plt.savefig(filepath+\"loss_.tif\" ,dpi = 300)\n",
    "plt.title('loss')\n",
    "plt.show()\n",
    "\n",
    "plt.plot(loss, label = \"Train Loss\")\n",
    "plt.plot(val_loss, label = \"Validation Loss\")\n",
    "plt.legend()\n",
    "plt.xlabel(\"Epoch\")\n",
    "plt.ylabel(\"Loss\")\n",
    "plt.title('Training and Validation Loss')\n",
    "plt.savefig(filepath+\"loss.tif\" ,dpi = 300)\n",
    "plt.title('loss')\n",
    "plt.show()\n",
    "\n",
    "plt.plot(accuracy, label = \"Train accuracy\")\n",
    "plt.plot(val_accuracy, label = \"Validation accuracy\")\n",
    "plt.legend()\n",
    "plt.title('Training and Validation Accuracy')\n",
    "plt.xlabel(\"Epoch\")\n",
    "plt.ylabel(\"Accuracy\")\n",
    "plt.savefig(filepath+\"accuracy.tif\" ,dpi = 300)\n",
    "plt.title('accuracy')\n",
    "plt.show()"
   ]
  },
  {
   "cell_type": "markdown",
   "metadata": {
    "id": "OT7mRJtMHI1S"
   },
   "source": [
    "# Predict"
   ]
  },
  {
   "cell_type": "code",
   "execution_count": null,
   "metadata": {
    "colab": {
     "base_uri": "https://localhost:8080/"
    },
    "executionInfo": {
     "elapsed": 411067,
     "status": "ok",
     "timestamp": 1629018248134,
     "user": {
      "displayName": "黃奕凱",
      "photoUrl": "",
      "userId": "06325147976452872858"
     },
     "user_tz": -480
    },
    "id": "zjCR5UtUHKrI",
    "outputId": "ce87936c-d1df-43a0-9a28-bf9d7c643133"
   },
   "outputs": [
    {
     "name": "stdout",
     "output_type": "stream",
     "text": [
      "------------------------------Last\n",
      "13/13 [==============================] - 101s 6s/step - loss: 0.0074 - accuracy: 0.9974\n",
      "------------------------------Best\n",
      "13/13 [==============================] - 96s 6s/step - loss: 0.0133 - accuracy: 0.9948\n"
     ]
    }
   ],
   "source": [
    "# Last------------------------------\n",
    "print(\"------------------------------Last\")\n",
    "predict_last = model_last.predict(X_test)\n",
    "model_last.evaluate(X_test, y_test)\n",
    "y_pred_last = np.argmax(predict_last,axis=1)\n",
    "\n",
    "# Best------------------------------\n",
    "print(\"------------------------------Best\")\n",
    "predict_best = model_best.predict(X_test)\n",
    "model_best.evaluate(X_test, y_test)\n",
    "y_pred_best = np.argmax(predict_best,axis=1)\n",
    "\n",
    "y_test_arg = np.argmax(y_test,axis=1)"
   ]
  },
  {
   "cell_type": "markdown",
   "metadata": {
    "id": "FHL9bPF_IVx9"
   },
   "source": [
    "#Classification report"
   ]
  },
  {
   "cell_type": "code",
   "execution_count": null,
   "metadata": {
    "colab": {
     "base_uri": "https://localhost:8080/"
    },
    "executionInfo": {
     "elapsed": 21,
     "status": "ok",
     "timestamp": 1628962312765,
     "user": {
      "displayName": "黃奕凱",
      "photoUrl": "",
      "userId": "06325147976452872858"
     },
     "user_tz": -480
    },
    "id": "0WQHIQcOIVPT",
    "outputId": "6b0e86d5-5dc7-4502-d108-1ec87940429a"
   },
   "outputs": [
    {
     "name": "stdout",
     "output_type": "stream",
     "text": [
      "last------------------------------\n",
      "              precision    recall  f1-score   support\n",
      "\n",
      "           0    1.00000   1.00000   1.00000       119\n",
      "           1    0.99259   1.00000   0.99628       134\n",
      "           2    1.00000   0.99254   0.99625       134\n",
      "\n",
      "    accuracy                        0.99742       387\n",
      "   macro avg    0.99753   0.99751   0.99751       387\n",
      "weighted avg    0.99744   0.99742   0.99742       387\n",
      "\n",
      "best------------------------------\n",
      "              precision    recall  f1-score   support\n",
      "\n",
      "           0    1.00000   1.00000   1.00000       119\n",
      "           1    1.00000   0.98507   0.99248       134\n",
      "           2    0.98529   1.00000   0.99259       134\n",
      "\n",
      "    accuracy                        0.99483       387\n",
      "   macro avg    0.99510   0.99502   0.99502       387\n",
      "weighted avg    0.99491   0.99483   0.99483       387\n",
      "\n"
     ]
    }
   ],
   "source": [
    "import sklearn.metrics as metrics\n",
    "target_names = ['0', '1', '2']\n",
    "print(\"last------------------------------\\n\"+metrics.classification_report(y_test_arg, y_pred_last, target_names=target_names, digits = 5))\n",
    "print(\"best------------------------------\\n\"+metrics.classification_report(y_test_arg, y_pred_best, target_names=target_names, digits = 5))"
   ]
  },
  {
   "cell_type": "markdown",
   "metadata": {
    "id": "5nSja3mS_zo9"
   },
   "source": [
    "# Crossing matrix"
   ]
  },
  {
   "cell_type": "code",
   "execution_count": null,
   "metadata": {
    "colab": {
     "base_uri": "https://localhost:8080/",
     "height": 609
    },
    "executionInfo": {
     "elapsed": 1982,
     "status": "ok",
     "timestamp": 1629018250102,
     "user": {
      "displayName": "黃奕凱",
      "photoUrl": "",
      "userId": "06325147976452872858"
     },
     "user_tz": -480
    },
    "id": "zprBIbAidG_p",
    "outputId": "e3a8c01d-df0d-4de2-991f-7d80ebe4efef"
   },
   "outputs": [
    {
     "data": {
      "image/png": "[encoded data removed]",
      "text/plain": [
       "<Figure size 432x288 with 2 Axes>"
      ]
     },
     "metadata": {
      "needs_background": "light",
      "tags": []
     },
     "output_type": "display_data"
    },
    {
     "data": {
      "image/png": "[encoded data removed]",
      "text/plain": [
       "<Figure size 432x288 with 2 Axes>"
      ]
     },
     "metadata": {
      "needs_background": "light",
      "tags": []
     },
     "output_type": "display_data"
    }
   ],
   "source": [
    "# 0 covid-19, \n",
    "# last--------------------------------------------------\n",
    "from sklearn.metrics import confusion_matrix\n",
    "import pandas as pd\n",
    "import matplotlib.pyplot as plt\n",
    "# import itertools\n",
    "\n",
    "Actual = [\"COVID-19\", \"Normal\", \"Viral Pneumonia\"]\n",
    "prediction = [\"COVID-19\", \"Normal\", \"Viral Pneumonia\"]\n",
    "# for i in range(len(y_train[0])):\n",
    "#   Actual.append(str(i))\n",
    "#   prediction.append(str(i))\n",
    "data = np.array(pd.crosstab(y_test_arg, y_pred_last, rownames=['Actual'],colnames=['prediction']))\n",
    "harvest = data\n",
    "fig, ax = plt.subplots()\n",
    "\n",
    "plt.imshow(harvest,cmap=plt.cm.Blues)\n",
    "plt.colorbar()\n",
    "# We want to show all ticks...\n",
    "ax.set_yticks(np.arange(harvest.shape[0]))\n",
    "ax.set_xticks(np.arange(harvest.shape[1]))\n",
    "# ... and label them with the respective list entries\n",
    "ax.set_xticklabels(prediction)\n",
    "ax.set_yticklabels(Actual)\n",
    "\n",
    "# Rotate the tick labels and set their alignment.\n",
    "plt.setp(ax.get_xticklabels(), rotation=45, ha=\"right\",rotation_mode=\"anchor\")\n",
    "# Loop over data dimensions and create text annotations.\n",
    "max_Value = 0\n",
    "for i in range(harvest.shape[0]):\n",
    "  for j in range(harvest.shape[1]):\n",
    "    if max_Value < harvest[i, j]:\n",
    "      max_Value = harvest[i, j]\n",
    "\n",
    "for i in range(harvest.shape[0]):\n",
    "  for j in range(harvest.shape[1]):\n",
    "    text = ax.text(j, i, harvest[i, j],ha=\"center\", va=\"center\", color=\"white\" if harvest[i, j] > max_Value/2 else 'black')\n",
    "fig.tight_layout()\n",
    "plt.savefig(filepath+\"Crossing_matrix_Last.tif\" ,dpi = 300)\n",
    "plt.title('Last')\n",
    "plt.show()\n",
    "\n",
    "# best--------------------------------------------------\n",
    "from sklearn.metrics import confusion_matrix\n",
    "import matplotlib.pyplot as plt\n",
    "import itertools\n",
    "\n",
    "Actual = [\"covid-19\", \"Normal\", \"Viral Pneumonia\"]\n",
    "prediction = [\"covid-19\", \"Normal\", \"Viral Pneumonia\"]\n",
    "# for i in range(len(y_train[0])):\n",
    "#   Actual.append(str(i))\n",
    "#   prediction.append(str(i))\n",
    "  \n",
    "data = np.array(pd.crosstab(y_test_arg, y_pred_best, rownames=['Actual'],colnames=['prediction']))\n",
    "harvest = data\n",
    "fig, ax = plt.subplots()\n",
    "\n",
    "plt.imshow(harvest,cmap=plt.cm.Blues)\n",
    "plt.colorbar()\n",
    "# We want to show all ticks...\n",
    "ax.set_yticks(np.arange(harvest.shape[0]))\n",
    "ax.set_xticks(np.arange(harvest.shape[1]))\n",
    "\n",
    "# ... and label them with the respective list entries\n",
    "ax.set_xticklabels(prediction)\n",
    "ax.set_yticklabels(Actual)\n",
    "\n",
    "# Rotate the tick labels and set their alignment.\n",
    "plt.setp(ax.get_xticklabels(), rotation=45, ha=\"right\",rotation_mode=\"anchor\")\n",
    "# Loop over data dimensions and create text annotations.\n",
    "\n",
    "max_Value = 0\n",
    "for i in range(harvest.shape[0]):\n",
    "  for j in range(harvest.shape[1]):\n",
    "    if max_Value < harvest[i, j]:\n",
    "      max_Value = harvest[i, j]\n",
    "\n",
    "for i in range(harvest.shape[0]):\n",
    "  for j in range(harvest.shape[1]):\n",
    "    text = ax.text(j, i, harvest[i, j],ha=\"center\", va=\"center\", color=\"white\" if harvest[i, j]>max_Value/2 else 'black')\n",
    "fig.tight_layout()\n",
    "plt.savefig(filepath+\"Crossing_matrix_Best.tif\" ,dpi = 300)\n",
    "plt.title('Best')\n",
    "plt.show()"
   ]
  },
  {
   "cell_type": "code",
   "execution_count": null,
   "metadata": {
    "id": "Br-OogX2_2TT"
   },
   "outputs": [],
   "source": []
  }
 ],
 "metadata": {
  "accelerator": "GPU",
  "colab": {
   "authorship_tag": "ABX9TyNK2tjBbh+O4Hwi4aE25hUN",
   "collapsed_sections": [
    "mGVgJFC6FZun"
   ],
   "mount_file_id": "1-j3Xc1tzzEwF0lUPafRPfB4HNevKaC0y",
   "name": "covid19_train_3Class.ipynb",
   "provenance": []
  },
  "kernelspec": {
   "display_name": "Python 3",
   "language": "python",
   "name": "python3"
  },
  "language_info": {
   "codemirror_mode": {
    "name": "ipython",
    "version": 3
   },
   "file_extension": ".py",
   "mimetype": "text/x-python",
   "name": "python",
   "nbconvert_exporter": "python",
   "pygments_lexer": "ipython3",
   "version": "3.8.8"
  }
 },
 "nbformat": 4,
 "nbformat_minor": 1
}
